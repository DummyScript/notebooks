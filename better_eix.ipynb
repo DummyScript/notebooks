{
 "cells": [
  {
   "cell_type": "code",
   "execution_count": 43,
   "metadata": {
    "collapsed": true
   },
   "outputs": [],
   "source": [
    "import os\n",
    "import subprocess"
   ]
  },
  {
   "cell_type": "code",
   "execution_count": 2,
   "metadata": {
    "collapsed": true
   },
   "outputs": [],
   "source": [
    "path = \"/usr/portage\""
   ]
  },
  {
   "cell_type": "code",
   "execution_count": 69,
   "metadata": {
    "collapsed": false
   },
   "outputs": [
    {
     "name": "stdout",
     "output_type": "stream",
     "text": [
      "checking path:\n",
      "\t/usr/portage has 171 contents\n",
      "checking path: games-kids\n",
      "\t- gcompris\n",
      "\t\t- files\n",
      "\t\t- Manifest\n",
      "\t\t- metadata.xml\n",
      "\t\t- gcompris-15.10-r1.ebuild\n",
      "\t\tpath:\n",
      "\t\t/usr/portage/games-kids/gcompris/gcompris-15.10-r1.ebuild\n"
     ]
    },
    {
     "ename": "PermissionError",
     "evalue": "[Errno 13] Permission denied: '/usr/portage/games-kids/gcompris/gcompris-15.10-r1.ebuild'",
     "output_type": "error",
     "traceback": [
      "\u001b[0;31m---------------------------------------------------------------------------\u001b[0m",
      "\u001b[0;31mPermissionError\u001b[0m                           Traceback (most recent call last)",
      "\u001b[0;32m<ipython-input-69-1c92377905e8>\u001b[0m in \u001b[0;36m<module>\u001b[0;34m()\u001b[0m\n\u001b[1;32m     24\u001b[0m                                 \u001b[0;31m# read the ebuild file\u001b[0m\u001b[0;34m\u001b[0m\u001b[0;34m\u001b[0m\u001b[0m\n\u001b[1;32m     25\u001b[0m                                 \u001b[0mebuild_doc\u001b[0m \u001b[0;34m=\u001b[0m \u001b[0;34m\"\"\u001b[0m\u001b[0;34m\u001b[0m\u001b[0m\n\u001b[0;32m---> 26\u001b[0;31m                                 \u001b[0;32mwith\u001b[0m \u001b[0mopen\u001b[0m\u001b[0;34m(\u001b[0m\u001b[0mthis_file_name\u001b[0m\u001b[0;34m,\u001b[0m\u001b[0;34m\"w\"\u001b[0m\u001b[0;34m)\u001b[0m \u001b[0;32mas\u001b[0m \u001b[0mthis_file_open\u001b[0m\u001b[0;34m:\u001b[0m\u001b[0;34m\u001b[0m\u001b[0m\n\u001b[0m\u001b[1;32m     27\u001b[0m                                     \u001b[0mebuild_doc\u001b[0m \u001b[0;34m=\u001b[0m \u001b[0mthis_file_open\u001b[0m\u001b[0;34m.\u001b[0m\u001b[0mread\u001b[0m\u001b[0;34m(\u001b[0m\u001b[0;34m)\u001b[0m\u001b[0;34m\u001b[0m\u001b[0m\n\u001b[1;32m     28\u001b[0m                                 \u001b[0mprint\u001b[0m\u001b[0;34m(\u001b[0m\u001b[0mebuild_doc\u001b[0m\u001b[0;34m)\u001b[0m\u001b[0;34m\u001b[0m\u001b[0m\n",
      "\u001b[0;31mPermissionError\u001b[0m: [Errno 13] Permission denied: '/usr/portage/games-kids/gcompris/gcompris-15.10-r1.ebuild'"
     ]
    }
   ],
   "source": [
    "path_stuff = os.listdir(path)\n",
    "num_stuff = len(path_stuff)\n",
    "look_ins = [\"\",\"games-kids\"]\n",
    "for_these_programs = [\"\",\"gcompris\"]\n",
    "print(\"checking path:\\n\\t{} has {} contents\".format(path, num_stuff))\n",
    "for i in path_stuff:\n",
    "    this_path = os.path.join(path,i)\n",
    "    if os.path.isdir(this_path):\n",
    "        this_dir = os.listdir(this_path)\n",
    "        num_new_stuff = len(this_dir)\n",
    "        if i in look_ins:\n",
    "            print(\"checking path: {}\".format(i))\n",
    "            for f in this_dir:\n",
    "                if f in for_these_programs:\n",
    "                    print(\"\\t- {}\".format(f))\n",
    "                    now_this_dir = os.path.join(this_path, f)\n",
    "                    if os.path.isdir(now_this_dir):\n",
    "                        this_new_stuff = os.listdir(now_this_dir)\n",
    "                        for s in this_new_stuff:\n",
    "                            print(\"\\t\\t- {}\".format(s))\n",
    "                            if \"ebuild\" in s:\n",
    "                                this_file_name = os.path.join(now_this_dir, s)\n",
    "                                print(\"\\t\\tpath:\\n\\t\\t{}\".format(this_file_name))\n",
    "                                # read the ebuild file\n",
    "                                ebuild_doc = \"\"\n",
    "                                with open(this_file_name,\"w\") as this_file_open:\n",
    "                                    ebuild_doc = this_file_open.read()\n",
    "                                print(ebuild_doc)\n",
    "                                \n",
    "                \n",
    "                "
   ]
  },
  {
   "cell_type": "code",
   "execution_count": null,
   "metadata": {
    "collapsed": true
   },
   "outputs": [],
   "source": []
  }
 ],
 "metadata": {
  "kernelspec": {
   "display_name": "Python 3.5",
   "language": "python",
   "name": "python35"
  },
  "language_info": {
   "codemirror_mode": {
    "name": "ipython",
    "version": 3
   },
   "file_extension": ".py",
   "mimetype": "text/x-python",
   "name": "python",
   "nbconvert_exporter": "python",
   "pygments_lexer": "ipython3",
   "version": "3.5.2"
  }
 },
 "nbformat": 4,
 "nbformat_minor": 1
}
